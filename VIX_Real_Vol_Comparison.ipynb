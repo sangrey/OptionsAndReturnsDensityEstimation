{
 "cells": [
  {
   "cell_type": "code",
   "execution_count": 128,
   "metadata": {
    "collapsed": true
   },
   "outputs": [],
   "source": [
    "import numpy as np\n",
    "import pandas as pd\n",
    "import time\n",
    "from bayesiankalman import mcmc\n",
    "from rpy2.robjects.packages import importr\n",
    "from rpy2.robjects import numpy2ri"
   ]
  },
  {
   "cell_type": "code",
   "execution_count": 41,
   "metadata": {
    "collapsed": false
   },
   "outputs": [],
   "source": [
    "%matplotlib inline"
   ]
  },
  {
   "cell_type": "code",
   "execution_count": 119,
   "metadata": {
    "collapsed": true
   },
   "outputs": [],
   "source": [
    "fracdiff = importr('fracdiff')\n",
    "numpy2ri.activate() "
   ]
  },
  {
   "cell_type": "code",
   "execution_count": 63,
   "metadata": {
    "collapsed": false
   },
   "outputs": [],
   "source": [
    "VIX = pd.read_csv('Data/VIX_2011_01-2016_04.csv')"
   ]
  },
  {
   "cell_type": "code",
   "execution_count": 64,
   "metadata": {
    "collapsed": false
   },
   "outputs": [
    {
     "data": {
      "text/html": [
       "<div>\n",
       "<table border=\"1\" class=\"dataframe\">\n",
       "  <thead>\n",
       "    <tr style=\"text-align: right;\">\n",
       "      <th></th>\n",
       "      <th>Date</th>\n",
       "      <th>vixo</th>\n",
       "      <th>vixh</th>\n",
       "      <th>vixl</th>\n",
       "      <th>vix</th>\n",
       "    </tr>\n",
       "  </thead>\n",
       "  <tbody>\n",
       "    <tr>\n",
       "      <th>0</th>\n",
       "      <td>03JAN2011</td>\n",
       "      <td>17.94</td>\n",
       "      <td>17.95</td>\n",
       "      <td>16.91</td>\n",
       "      <td>17.61</td>\n",
       "    </tr>\n",
       "    <tr>\n",
       "      <th>1</th>\n",
       "      <td>04JAN2011</td>\n",
       "      <td>17.34</td>\n",
       "      <td>18.24</td>\n",
       "      <td>17.33</td>\n",
       "      <td>17.38</td>\n",
       "    </tr>\n",
       "    <tr>\n",
       "      <th>2</th>\n",
       "      <td>05JAN2011</td>\n",
       "      <td>17.81</td>\n",
       "      <td>17.95</td>\n",
       "      <td>16.86</td>\n",
       "      <td>17.02</td>\n",
       "    </tr>\n",
       "    <tr>\n",
       "      <th>3</th>\n",
       "      <td>06JAN2011</td>\n",
       "      <td>16.80</td>\n",
       "      <td>17.56</td>\n",
       "      <td>16.79</td>\n",
       "      <td>17.40</td>\n",
       "    </tr>\n",
       "    <tr>\n",
       "      <th>4</th>\n",
       "      <td>07JAN2011</td>\n",
       "      <td>17.31</td>\n",
       "      <td>18.07</td>\n",
       "      <td>16.57</td>\n",
       "      <td>17.14</td>\n",
       "    </tr>\n",
       "  </tbody>\n",
       "</table>\n",
       "</div>"
      ],
      "text/plain": [
       "        Date   vixo   vixh   vixl    vix\n",
       "0  03JAN2011  17.94  17.95  16.91  17.61\n",
       "1  04JAN2011  17.34  18.24  17.33  17.38\n",
       "2  05JAN2011  17.81  17.95  16.86  17.02\n",
       "3  06JAN2011  16.80  17.56  16.79  17.40\n",
       "4  07JAN2011  17.31  18.07  16.57  17.14"
      ]
     },
     "execution_count": 64,
     "metadata": {},
     "output_type": "execute_result"
    }
   ],
   "source": [
    "VIX.head()"
   ]
  },
  {
   "cell_type": "code",
   "execution_count": 70,
   "metadata": {
    "collapsed": true
   },
   "outputs": [],
   "source": [
    "vix = pd.Series(VIX['vix'].values, index=pd.to_datetime(VIX['Date'],format='%d%b%Y'))"
   ]
  },
  {
   "cell_type": "code",
   "execution_count": 72,
   "metadata": {
    "collapsed": false
   },
   "outputs": [
    {
     "data": {
      "text/plain": [
       "<matplotlib.axes._subplots.AxesSubplot at 0x7f355cc826d8>"
      ]
     },
     "execution_count": 72,
     "metadata": {},
     "output_type": "execute_result"
    },
    {
     "data": {
      "image/png": "[encoded data removed]",
      "text/plain": [
       "<matplotlib.figure.Figure at 0x7f3567404710>"
      ]
     },
     "metadata": {},
     "output_type": "display_data"
    }
   ],
   "source": [
    "vix.plot()"
   ]
  },
  {
   "cell_type": "code",
   "execution_count": 84,
   "metadata": {
    "collapsed": false
   },
   "outputs": [],
   "source": [
    "results = mcmc.read_nested_hdf('/home/sangrey/Repositories/LongMemoryModel/results/cond_gp_model.with_mean.hdf')\n",
    "estimates = {pd.to_datetime(key, format='%B_%d_%Y') : item for key, item in results['results'].items()}"
   ]
  },
  {
   "cell_type": "code",
   "execution_count": 97,
   "metadata": {
    "collapsed": false
   },
   "outputs": [],
   "source": [
    "last_day = np.sort(list(estimates.keys()))[-1]\n",
    "present_dates = np.unique(estimates[last_day]['dates'].astype('datetime64[D]'))\n",
    "ivols = estimates[last_day]['ivols']\n",
    "ivols_df = pd.DataFrame(np.median(estimates[last_day]['ivols'].T, axis=1),index=present_dates)\n"
   ]
  },
  {
   "cell_type": "code",
   "execution_count": 140,
   "metadata": {
    "collapsed": false
   },
   "outputs": [],
   "source": [
    "d, sd_asymp, sd_reg = fracdiff.fdGPH(np.log(vix.values))"
   ]
  },
  {
   "cell_type": "code",
   "execution_count": 143,
   "metadata": {
    "collapsed": false
   },
   "outputs": [
    {
     "data": {
      "text/plain": [
       "<FloatVector - Python:0x7f353d6dd888 / R:0x1d0d2388>\n",
       "[0.075388]"
      ]
     },
     "execution_count": 143,
     "metadata": {},
     "output_type": "execute_result"
    }
   ],
   "source": [
    "sd_reg"
   ]
  },
  {
   "cell_type": "code",
   "execution_count": null,
   "metadata": {
    "collapsed": true
   },
   "outputs": [],
   "source": []
  }
 ],
 "metadata": {
  "kernelspec": {
   "display_name": "Python 3",
   "language": "python",
   "name": "python3"
  },
  "language_info": {
   "codemirror_mode": {
    "name": "ipython",
    "version": 3
   },
   "file_extension": ".py",
   "mimetype": "text/x-python",
   "name": "python",
   "nbconvert_exporter": "python",
   "pygments_lexer": "ipython3",
   "version": "3.5.1"
  }
 },
 "nbformat": 4,
 "nbformat_minor": 0
}
